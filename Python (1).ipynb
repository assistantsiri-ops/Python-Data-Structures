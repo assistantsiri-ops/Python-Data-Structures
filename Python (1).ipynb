{
  "nbformat": 4,
  "nbformat_minor": 0,
  "metadata": {
    "colab": {
      "provenance": []
    },
    "kernelspec": {
      "name": "python3",
      "display_name": "Python 3"
    },
    "language_info": {
      "name": "python"
    }
  },
  "cells": [
    {
      "cell_type": "code",
      "execution_count": null,
      "metadata": {
        "id": "i2xTLapE60Pm"
      },
      "outputs": [],
      "source": []
    },
    {
      "cell_type": "markdown",
      "source": [
        "# Python Data Structure ( Theory )"
      ],
      "metadata": {
        "id": "cZqriikL64E4"
      }
    },
    {
      "cell_type": "markdown",
      "source": [
        "1. What are data structures, and why are they important?\n",
        "   - Data structures are a specific way of organizing data in a specialized format on a computer so that the information can be organized, processed, stored, and retrieved quickly and effectively."
      ],
      "metadata": {
        "id": "5b3A-hrW7rmG"
      }
    },
    {
      "cell_type": "code",
      "source": [
        "1. # What are data structures, and why are they important?\n",
        "\"\"\"\n",
        "Data structures are a specific way of organizing data in a specialized format on a computer so that the information can be organized, processed, stored, and retrieved quickly and effectively.\n",
        "\"\"\""
      ],
      "metadata": {
        "colab": {
          "base_uri": "https://localhost:8080/",
          "height": 70
        },
        "id": "Z6sOQU0c7hyC",
        "outputId": "aa74a3a7-e215-4c52-8dd4-467f65f17e95"
      },
      "execution_count": null,
      "outputs": [
        {
          "output_type": "execute_result",
          "data": {
            "text/plain": [
              "'\\nData structures are a specific way of organizing data in a specialized format on a computer so that the information can be organized, processed, stored, and retrieved quickly and effectively.\\n'"
            ],
            "application/vnd.google.colaboratory.intrinsic+json": {
              "type": "string"
            }
          },
          "metadata": {},
          "execution_count": 1
        }
      ]
    },
    {
      "cell_type": "markdown",
      "source": [
        "2. Explain the difference between mutable and immutable data types with examples?\n",
        "   - Mutable data types are those whose values can be modified after they are created, while immutable data types are those whose values cannot be modified once created and the examples ; Python, being a dynamically-typed language, offers a variety of mutable and immutable objects. Lists, dictionaries, and sets are instances of mutable objects, while numbers, strings, and tuples are instances of immutable objects"
      ],
      "metadata": {
        "id": "ltyneBRF8qnb"
      }
    },
    {
      "cell_type": "code",
      "source": [
        "2. # Explain the difference between mutable and immutable data types with examples?\n",
        "\"\"\"\n",
        "Mutable data types are those whose values can be modified after they are created, while immutable data types are those whose values cannot be modified once created and the examples ; Python, being a dynamically-typed language, offers a variety of mutable and immutable objects. Lists, dictionaries, and sets are instances of mutable objects, while numbers, strings, and tuples are instances of immutable objects\n",
        "\"\"\"\n"
      ],
      "metadata": {
        "id": "shLekV0z9mGR"
      },
      "execution_count": null,
      "outputs": []
    },
    {
      "cell_type": "markdown",
      "source": [
        "3.  What are the main differences between lists and tuples in Python?\n",
        "    - Tuples are immutable objects and lists are mutable objects."
      ],
      "metadata": {
        "id": "GWjnV2wb9yJn"
      }
    },
    {
      "cell_type": "code",
      "source": [
        "3. # What are the main differences between lists and tuples in Python?\n",
        "\"\"\"\n",
        "Tuples are immutable objects and lists are mutable objects.\n",
        "\"\"\""
      ],
      "metadata": {
        "id": "FSs9Yzjh-KNm"
      },
      "execution_count": null,
      "outputs": []
    },
    {
      "cell_type": "markdown",
      "source": [
        "4. Describe how dictionaries store data.\n",
        "   - Dictionaries are used to store data values in key:value pairs\n"
      ],
      "metadata": {
        "id": "j2cZEQjt-YG-"
      }
    },
    {
      "cell_type": "code",
      "source": [
        "4. # Describe how dictionaries store data.\n",
        "\"\"\"\n",
        "Dictionaries are used to store data values in key:value pairs\n",
        "\"\"\""
      ],
      "metadata": {
        "id": "0AtMR8t6-lsN"
      },
      "execution_count": null,
      "outputs": []
    },
    {
      "cell_type": "markdown",
      "source": [
        "5. Why might you use a set instead of a list in Python?\n",
        "  - Because sets cannot have multiple occurrences of the same element."
      ],
      "metadata": {
        "id": "EbZ7IFR9-u58"
      }
    },
    {
      "cell_type": "code",
      "source": [
        "5. # Why might you use a set instead of a list in Python?\n",
        "\"\"\"\n",
        "Because sets cannot have multiple occurrences of the same element.\n",
        "\"\"\""
      ],
      "metadata": {
        "id": "KYCgislz_EFb"
      },
      "execution_count": null,
      "outputs": []
    },
    {
      "cell_type": "markdown",
      "source": [
        "6. What is a string in Python, and how is it different from a list?\n",
        "   -  Strings in Python are sequences of characters enclosed in quotes ('' or “”). Lists are ordered collections of items enclosed in square brackets []. Strings are immutable, meaning they cannot be changed once created, while lists are mutable and can be modified as needed."
      ],
      "metadata": {
        "id": "8diiu_gB_O-j"
      }
    },
    {
      "cell_type": "code",
      "source": [
        "6. # What is a string in Python, and how is it different from a list?\n",
        "\"\"\"\n",
        "\n",
        " Strings in Python are sequences of characters enclosed in quotes ('' or “”). Lists are ordered collections of items enclosed in square brackets []. Strings are immutable, meaning they cannot be changed once created, while lists are mutable and can be modified as needed.\n",
        "\"\"'"
      ],
      "metadata": {
        "id": "RLx0jogP_siR"
      },
      "execution_count": null,
      "outputs": []
    },
    {
      "cell_type": "markdown",
      "source": [
        "7. How do tuples ensure data integrity in Python?\n",
        "   - Tuples are immutable to ensure that their contents remain constant throughout their lifecycle."
      ],
      "metadata": {
        "id": "66uifpy1_6Ax"
      }
    },
    {
      "cell_type": "code",
      "source": [
        "7.#  How do tuples ensure data integrity in Python?\n",
        "\"\"\"\n",
        "Tuples are immutable to ensure that their contents remain constant throughout their lifecycle.\n",
        "\"\"\""
      ],
      "metadata": {
        "id": "rC3vT-J-AJ5Z"
      },
      "execution_count": null,
      "outputs": []
    },
    {
      "cell_type": "markdown",
      "source": [
        "8. What is a hash table, and how does it relate to dictionaries in Python?   \n",
        "   - A hash table is a data structure that allows you to store a collection of key-value pairs."
      ],
      "metadata": {
        "id": "pELW_yZFAd5v"
      }
    },
    {
      "cell_type": "code",
      "source": [
        "8. # What is a hash table, and how does it relate to dictionaries in Python?\n",
        "\"\"\"\n",
        " A hash table is a data structure that allows you to store a collection of key-value pairs\n",
        "\"\"\""
      ],
      "metadata": {
        "id": "YBZsjnFuAwAW"
      },
      "execution_count": null,
      "outputs": []
    },
    {
      "cell_type": "markdown",
      "source": [
        "9. Can lists contain different data types in Python?\n",
        "  - in Python, lists can contain heterogeneous data types and objects. For instance, integers, strings, and even functions can be stored within the same list."
      ],
      "metadata": {
        "id": "AlLUk5yvA4IW"
      }
    },
    {
      "cell_type": "code",
      "source": [
        "9. #  Can lists contain different data types in Python?\n",
        "\"\"\"\n",
        "in Python, lists can contain heterogeneous data types and objects. For instance, integers, strings, and even functions can be stored within the same list.\n",
        "\"\"\""
      ],
      "metadata": {
        "id": "3QojPt5WBLi4"
      },
      "execution_count": null,
      "outputs": []
    },
    {
      "cell_type": "markdown",
      "source": [
        "10. Explain why strings are immutable in Python?\n",
        "   - Because since immutable objects cannot change their value, Python can optimize memory usage."
      ],
      "metadata": {
        "id": "glMVHedfBT01"
      }
    },
    {
      "cell_type": "code",
      "source": [
        "10. # Explain why strings are immutable in Python?\n",
        "\"\"\"\n",
        " Because since immutable objects cannot change their value, Python can optimize memory usage.\n",
        "\"\"\""
      ],
      "metadata": {
        "id": "RhuJZ5gfBqKz"
      },
      "execution_count": null,
      "outputs": []
    },
    {
      "cell_type": "markdown",
      "source": [
        "11.  What advantages do dictionaries offer over lists for certain tasks?\n",
        "  - It is more efficient to use dictionaries for the searching of elements as it can be carried out in a much faster manner. Lists are used when it is important to maintain the order of the elements and dealing with data that may get changed in the future."
      ],
      "metadata": {
        "id": "t9PvuROAB1_z"
      }
    },
    {
      "cell_type": "code",
      "source": [
        "11. # What advantages do dictionaries offer over lists for certain tasks?\n",
        "\"\"\"\n",
        "It is more efficient to use dictionaries for the searching of elements as it can be carried out in a much faster manner. Lists are used when it is important to maintain the order of the elements and dealing with data that may get changed in the future.\n",
        "\"\"\""
      ],
      "metadata": {
        "id": "bxCnfem2CCUC"
      },
      "execution_count": null,
      "outputs": []
    },
    {
      "cell_type": "markdown",
      "source": [
        "12. Describe a scenario where using a tuple would be preferable over a list?\n",
        "  - Use a tuple if you need an immutable collection where the elements won't change after creation."
      ],
      "metadata": {
        "id": "MeUTuNBfCLdi"
      }
    },
    {
      "cell_type": "code",
      "source": [
        "12. # Describe a scenario where using a tuple would be preferable over a list?\n",
        "\"\"\"\n",
        "Use a tuple if you need an immutable collection where the elements won't change after creation.\n",
        "\"\"\"\""
      ],
      "metadata": {
        "id": "MD9c3O84Ce-J"
      },
      "execution_count": null,
      "outputs": []
    },
    {
      "cell_type": "markdown",
      "source": [
        "13. How do sets handle duplicate values in Python?\n",
        "  - Tems of a set in python are immutable, do not duplicate values, and unordered."
      ],
      "metadata": {
        "id": "_3q6ND22CqkQ"
      }
    },
    {
      "cell_type": "code",
      "source": [
        "13. # How do sets handle duplicate values in Python?\n",
        "\"\"\"\n",
        "Tems of a set in python are immutable, do not duplicate values, and unordered.\n",
        "\"\"\""
      ],
      "metadata": {
        "id": "6gH88zDVC_mY"
      },
      "execution_count": null,
      "outputs": []
    },
    {
      "cell_type": "markdown",
      "source": [
        "14. How does the “in” keyword work differently for lists and dictionaries?\n",
        "  - For dictionaries\n",
        "The key of the dictionary is a unique value as well as the set, and the execution time is about the same as for sets. On the other hand, dictionary values can be duplicated like a list."
      ],
      "metadata": {
        "id": "7WKF2jScD2jt"
      }
    },
    {
      "cell_type": "code",
      "source": [
        "14. #  How does the “in” keyword work differently for lists and dictionaries?\n",
        "\"\"\"\n",
        " For dictionaries\n",
        "The key of the dictionary is a unique value as well as the set, and the execution time is about the same as for sets. On the other hand, dictionary values can be duplicated like a list.\n",
        "\"\"\""
      ],
      "metadata": {
        "id": "0nNiWrWmEH8l"
      },
      "execution_count": null,
      "outputs": []
    },
    {
      "cell_type": "markdown",
      "source": [
        "15.  Can you modify the elements of a tuple? Explain why or why not.\n",
        "   - In Python, tuples are immutable, meaning that once they are created, their elements cannot be changed, added, or removed.\n"
      ],
      "metadata": {
        "id": "ouHfGXr2DVPu"
      }
    },
    {
      "cell_type": "code",
      "source": [
        "15. # Can you modify the elements of a tuple? Explain why or why not.\n",
        "\"\"\"\n",
        "In Python, tuples are immutable, meaning that once they are created, their elements cannot be changed, added, or removed.\n",
        "\"\"\""
      ],
      "metadata": {
        "id": "xxHokUGCDjQI"
      },
      "execution_count": null,
      "outputs": []
    },
    {
      "cell_type": "markdown",
      "source": [
        "16. What is a nested dictionary, and give an example of its use case?\n",
        "  - In Python, a nested dictionary is a dictionary inside a dictionary. It's a collection of dictionaries into one single dictionary. Here, the nested_dict is a nested dictionary with the dictionary dictA and dictB . They are two dictionary each having own key and value."
      ],
      "metadata": {
        "id": "5fUfvAsCEUs8"
      }
    },
    {
      "cell_type": "code",
      "source": [
        "16. # What is a nested dictionary, and give an example of its use case?\n",
        "\"\"\"\n",
        "In Python, a nested dictionary is a dictionary inside a dictionary. It's a collection of dictionaries into one single dictionary. Here, the nested_dict is a nested dictionary with the dictionary dictA and dictB . They are two dictionary each having own key and value.\n",
        "\"\"\""
      ],
      "metadata": {
        "id": "Q_D3Fp9SEw8K"
      },
      "execution_count": null,
      "outputs": []
    },
    {
      "cell_type": "markdown",
      "source": [
        "17. Describe the time complexity of accessing elements in a dictionary.\n",
        "   - The time complexity of retrieving a value by its key in a dictionary is O(1). This is because dictionaries use a hash table internally which allows constant time lookup. Why O(1)? Hash tables use the hash of the key to find the memory location which enables direct access."
      ],
      "metadata": {
        "id": "ovspferrE8wK"
      }
    },
    {
      "cell_type": "code",
      "source": [
        "17. # Describe the time complexity of accessing elements in a dictionary.\n",
        "\"\"\"\n",
        "The time complexity of retrieving a value by its key in a dictionary is O(1). This is because dictionaries use a hash table internally which allows constant time lookup. Why O(1)? Hash tables use the hash of the key to find the memory location which enables direct access.\n",
        "\"\"\""
      ],
      "metadata": {
        "id": "I5hatowLFYRT"
      },
      "execution_count": null,
      "outputs": []
    },
    {
      "cell_type": "markdown",
      "source": [
        "18. In what situations are lists preferred over dictionaries?\n",
        "   - If you need an ordered collection, like a sequence of user actions, lists are your go-to. On the other hand, when you need quick look-ups, like mapping usernames to user data, dictionaries are invaluable."
      ],
      "metadata": {
        "id": "qsqFyG_zFkux"
      }
    },
    {
      "cell_type": "code",
      "source": [
        "18. # In what situations are lists preferred over dictionaries?\n",
        "\"\"\"\n",
        "If you need an ordered collection, like a sequence of user actions, lists are your go-to. On the other hand, when you need quick look-ups, like mapping usernames to user data, dictionaries are invaluable.\n",
        "\"\"\""
      ],
      "metadata": {
        "id": "dd4j0rY3F843"
      },
      "execution_count": null,
      "outputs": []
    },
    {
      "cell_type": "markdown",
      "source": [
        "19. Why are dictionaries considered unordered, and how does that affect data retrieval?\n",
        "   - Because Python dictionaries are not intended to be in order, as simple as that."
      ],
      "metadata": {
        "id": "lmIzCKaTGJVO"
      }
    },
    {
      "cell_type": "code",
      "source": [
        "19. # Why are dictionaries considered unordered, and how does that affect data retrieval?\n",
        "\"\"\"\n",
        "Because Python dictionaries are not intended to be in order, as simple as that.\n",
        "\"\"\""
      ],
      "metadata": {
        "id": "ZpnPCFEfGSx-"
      },
      "execution_count": null,
      "outputs": []
    },
    {
      "cell_type": "markdown",
      "source": [
        "20.  Explain the difference between a list and a dictionary in terms of data retrieval.\n",
        "  - A list is an ordered collection of items, whereas a dictionary is an unordered data collection in a key: value pair. Elements from the list can be accessed using the index, while the elements of the dictionary can be accessed using keys."
      ],
      "metadata": {
        "id": "ry38xFsOGa-N"
      }
    },
    {
      "cell_type": "code",
      "source": [
        "20. # Explain the difference between a list and a dictionary in terms of data retrieval.\n",
        "\"\"\"\n",
        "A list is an ordered collection of items, whereas a dictionary is an unordered data collection in a key: value pair. Elements from the list can be accessed using the index, while the elements of the dictionary can be accessed using keys.\n",
        "\"\"\""
      ],
      "metadata": {
        "id": "Tiaz1shhGpAl"
      },
      "execution_count": null,
      "outputs": []
    },
    {
      "cell_type": "markdown",
      "source": [
        "#Python Data Sturctures( Practical )"
      ],
      "metadata": {
        "id": "sVcLBx0jG1-E"
      }
    },
    {
      "cell_type": "markdown",
      "source": [
        "1. Write a code to create a string with your name and print it.\n",
        "  - name = souvik\n",
        "  formatted_string = f\"(name)\"\n",
        "  \n",
        "  print(formatted_string)"
      ],
      "metadata": {
        "id": "GeaoXe6JHP1j"
      }
    },
    {
      "cell_type": "code",
      "source": [
        "1. # Write a code to create a string with your name and print it.\n",
        "\"\"\"\n",
        "name = souvik\n",
        "formatted_string = f\"(name)\"\n",
        "print(formatted_string)\n",
        "\"\"\""
      ],
      "metadata": {
        "id": "Yh1eL0RkLIH8"
      },
      "execution_count": null,
      "outputs": []
    },
    {
      "cell_type": "markdown",
      "source": [
        "2. Write a code to find the length of the string \"Hello World\".\n",
        "  - a = \"hello world\"\n",
        "  print(len(a))"
      ],
      "metadata": {
        "id": "OwrkiGSFLOWH"
      }
    },
    {
      "cell_type": "code",
      "source": [
        "2. # Write a code to find the length of the string \"Hello World\"\n",
        "\"\"\"\n",
        "- a = \"hello world\"\n",
        "  print(len(a))\n",
        "\"\"\""
      ],
      "metadata": {
        "id": "bXXP5zkgLg5n"
      },
      "execution_count": null,
      "outputs": []
    },
    {
      "cell_type": "markdown",
      "source": [
        "3. Write a code to slice the first 3 characters from the string \"Python Programming\".\n",
        "  - var = \"Python Programming\"\n",
        "  print(var[0])\n",
        "  print(var[1])\n",
        "  print(var[2])\n",
        "   "
      ],
      "metadata": {
        "id": "EE1HttgYLvo2"
      }
    },
    {
      "cell_type": "code",
      "source": [
        "3. #  Write a code to slice the first 3 characters from the string \"Python Programming\".\n",
        "\"\"\"\n",
        "var = \"Python Programming\"\n",
        "  print(var[0])\n",
        "  print(var[1])\n",
        "  print(var[2])\n",
        "\n",
        "\"\"\""
      ],
      "metadata": {
        "id": "h-B8g5pHNP8y"
      },
      "execution_count": null,
      "outputs": []
    },
    {
      "cell_type": "markdown",
      "source": [
        "4. Write a code to convert the string \"hello\" to uppercase.\n",
        "  - s = hello\n",
        "  res = s.upper\n",
        "  print(res)"
      ],
      "metadata": {
        "id": "e2nnUUMZNcoZ"
      }
    },
    {
      "cell_type": "code",
      "source": [
        "4. # Write a code to convert the string \"hello\" to uppercase.\n",
        "\"\"\"\n",
        "s = hello\n",
        "  res = s.upper\n",
        "  print(res)\n",
        "\"\"\""
      ],
      "metadata": {
        "id": "bSAoEfvVOBc4"
      },
      "execution_count": null,
      "outputs": []
    },
    {
      "cell_type": "markdown",
      "source": [
        "5. Write a code to replace the word \"apple\" with \"orange\" in the string \"I like apple\".\n",
        "  - txt = \"I like apples\"\n",
        "\n",
        "x = txt.replace(\"apples\", \"orange\")\n",
        "\n",
        "print(x)"
      ],
      "metadata": {
        "id": "uGNcIwUxOUPm"
      }
    },
    {
      "cell_type": "code",
      "source": [
        "5. #  Write a code to replace the word \"apple\" with \"orange\" in the string \"I like apple\".\n",
        "\"\"\"\n",
        "txt = \"I like apples\"\n",
        "\n",
        "x = txt.replace(\"apples\", \"orange\")\n",
        "\n",
        "print(x)\n",
        "\"\"\""
      ],
      "metadata": {
        "id": "xmd4umjCPB0H"
      },
      "execution_count": null,
      "outputs": []
    },
    {
      "cell_type": "markdown",
      "source": [
        "6. Write a code to create a list with numbers 1 to 5 and print it.\n",
        "  - numbers = list(rangle(5))\n",
        "  print(numbers)"
      ],
      "metadata": {
        "id": "hY9bXlU4PM47"
      }
    },
    {
      "cell_type": "code",
      "source": [
        "6. # Write a code to create a list with numbers 1 to 5 and print it.\n",
        "\"\"\"\n",
        " numbers = list(rangle(5))\n",
        "  print(numbers)\n",
        "\"\"\""
      ],
      "metadata": {
        "id": "PQzH9G93Pteb"
      },
      "execution_count": null,
      "outputs": []
    },
    {
      "cell_type": "markdown",
      "source": [
        "7. Write a code to append the number 10 to the list [1, 2, 3, 4].\n",
        "  -\n",
        "\n",
        "\n",
        "input = [1, 2, 3, 4]\n",
        "key = 10\n",
        "\n",
        "result = []\n",
        "for ele in input:\n",
        "    result.append(ele)\n",
        "    result.append(key)\n",
        "\n",
        "print(result)"
      ],
      "metadata": {
        "id": "sU0AAs08Qmrw"
      }
    },
    {
      "cell_type": "code",
      "source": [
        "7. # Write a code to append the number 10 to the list [1, 2, 3, 4].\n",
        "\"\"\"\n",
        "\n",
        "input = [1, 2, 3, 4]\n",
        "key = 10\n",
        "\n",
        "result = []\n",
        "for ele in input:\n",
        "    result.append(ele)\n",
        "    result.append(key)\n",
        "\n",
        "print(result)\n",
        "\"\"\""
      ],
      "metadata": {
        "id": "tOZJMeduRFQv"
      },
      "execution_count": null,
      "outputs": []
    },
    {
      "cell_type": "markdown",
      "source": [
        "8. Write a code to remove the number 3 from the list [1, 2, 3, 4, 5].\n",
        "  - fruits = ['1', '2', '3', '4', '5']\n",
        "numbers.remove('3')\n",
        "print(numbers)"
      ],
      "metadata": {
        "id": "cqadeS0_RYM1"
      }
    },
    {
      "cell_type": "code",
      "source": [
        "8. # Write a code to remove the number 3 from the list [1, 2, 3, 4, 5].\n",
        "\"\"\"\n",
        "fruits = ['1', '2', '3', '4', '5']\n",
        "numbers.remove('3')\n",
        "print(numbers)\n",
        "\"\"\""
      ],
      "metadata": {
        "id": "d0mXXC8CSEOz"
      },
      "execution_count": null,
      "outputs": []
    },
    {
      "cell_type": "markdown",
      "source": [
        "9. Write a code to access the second element in the list ['a', 'b', 'c', 'd'].\n",
        "  - L1=['a', 'b', 'c', 'd']\n",
        ">>> print (L1[b])"
      ],
      "metadata": {
        "id": "4qgyH3kFSSVC"
      }
    },
    {
      "cell_type": "code",
      "source": [
        "9. # Write a code to access the second element in the list ['a', 'b', 'c', 'd'].\n",
        "\"\"\"\n",
        "L1=['a', 'b', 'c', 'd']\n",
        ">>> print (L1[b])\n",
        "\"\"\""
      ],
      "metadata": {
        "id": "QWChKtfyTT9_"
      },
      "execution_count": null,
      "outputs": []
    },
    {
      "cell_type": "code",
      "source": [
        "10.  Write a code to reverse the list [10, 20, 30, 40, 50].\n",
        "  - a = [10, 20, 30, 40, 50]\n",
        "a.reverse()\n",
        "print(a)"
      ],
      "metadata": {
        "id": "VUTunWcRTfgn"
      },
      "execution_count": null,
      "outputs": []
    },
    {
      "cell_type": "code",
      "source": [
        "10. #  Write a code to reverse the list [10, 20, 30, 40, 50].\n",
        "\"\"\"\n",
        "a = [10, 20, 30, 40, 50]\n",
        "a.reverse()\n",
        "print(a)\n",
        "\"\"\""
      ],
      "metadata": {
        "id": "RvXkDwC2T3rG"
      },
      "execution_count": null,
      "outputs": []
    },
    {
      "cell_type": "markdown",
      "source": [
        "11.  Write a code to create a tuple with the elements 100, 200, 300 and print it.\n",
        "  - a, b, c = (100, 200, 300)\n",
        "\n",
        "print(a)  \n",
        "print(b)  \n",
        "print(c)  "
      ],
      "metadata": {
        "id": "PmY0hdB2UB79"
      }
    },
    {
      "cell_type": "code",
      "source": [
        "11. # Write a code to create a tuple with the elements 100, 200, 300 and print it.\n",
        "\"\"\"\n",
        "a, b, c = (100, 200, 300)\n",
        "print(a)\n",
        "print(b)\n",
        "print(c)\n",
        "\"\"\""
      ],
      "metadata": {
        "id": "RJ8xqze-UTek"
      },
      "execution_count": null,
      "outputs": []
    },
    {
      "cell_type": "markdown",
      "source": [
        "12. Write a code to access the second-to-last element of the tuple ('red', 'green', 'blue', 'yellow').\n",
        "  - L1=['red', 'green', 'blue', 'yellow']\n",
        ">>> print (L1[-blue])"
      ],
      "metadata": {
        "id": "qRnoEVV3Ud3D"
      }
    },
    {
      "cell_type": "code",
      "source": [
        "12. # Write a code to access the second-to-last element of the tuple ('red', 'green', 'blue', 'yellow').\n",
        "\"\"\"\n",
        "L1=['red', 'green', 'blue', 'yellow']\n",
        "print (L1[-blue])\n",
        "\"\"\""
      ],
      "metadata": {
        "id": "dCopKgDRUxdj"
      },
      "execution_count": null,
      "outputs": []
    },
    {
      "cell_type": "markdown",
      "source": [
        "13.  Write a code to find the minimum number in the tuple (10, 20, 5, 15).\n",
        " - numbers = [\"10\", \"20\", \"5\", \"15\"]\n",
        "smallest_numbers = min(numbers)\n",
        "print(smallest_numbers)"
      ],
      "metadata": {
        "id": "oK6_cHJUU9Ri"
      }
    },
    {
      "cell_type": "code",
      "source": [
        "13. # Write a code to find the minimum number in the tuple (10, 20, 5, 15).\n",
        "\"\"\"\n",
        "numbers = [\"10\", \"20\", \"5\", \"15\"]\n",
        "smallest_numbers = min(numbers)\n",
        "print(smallest_numbers)\n",
        "\"\"\""
      ],
      "metadata": {
        "id": "YaThKpNLVodo"
      },
      "execution_count": null,
      "outputs": []
    },
    {
      "cell_type": "markdown",
      "source": [
        "14. Write a code to find the index of the element \"cat\" in the tuple ('dog', 'cat', 'rabbit').\n",
        "  - tuple = (dog, cat, rabit,)\n",
        "index_position = tuple.index(cat)\n",
        "print(\"The index of cat is:\", index_position)"
      ],
      "metadata": {
        "id": "5CTH28yZVw5w"
      }
    },
    {
      "cell_type": "code",
      "source": [
        "14. #Write a code to find the index of the element \"cat\" in the tuple ('dog', 'cat', 'rabbit').\n",
        "\"\"\"\n",
        "tuple = (dog, cat, rabit,)\n",
        "index_position = tuple.index(cat)\n",
        "print(\"The index of cat is:\", index_position)\n",
        "\"\"\""
      ],
      "metadata": {
        "id": "y0s83uF7Wj7W"
      },
      "execution_count": null,
      "outputs": []
    },
    {
      "cell_type": "markdown",
      "source": [
        "15. Write a code to create a tuple containing three different fruits and check if \"kiwi\" is in it.\n",
        "  - thistuple = (\"apple\", \"banana\", \"cherry\")\n",
        "print(thistuple)"
      ],
      "metadata": {
        "id": "2MUr-tWnWp7u"
      }
    },
    {
      "cell_type": "code",
      "source": [
        "15. #  Write a code to create a tuple containing three different fruits and check if \"kiwi\" is in it.\n",
        "\"\"\"\n",
        " thistuple = (\"apple\", \"banana\", \"cherry\")\n",
        "print(thistuple)\n",
        "\"\"\""
      ],
      "metadata": {
        "id": "tbTgKjb-YBJa"
      },
      "execution_count": null,
      "outputs": []
    },
    {
      "cell_type": "markdown",
      "source": [
        "16. Write a code to create a set with the elements 'a', 'b', 'c' and print it.\n",
        "  -numbers ={'a', 'b', 'c'}\n",
        "print(numbers)"
      ],
      "metadata": {
        "id": "d4U32TxEYMYx"
      }
    },
    {
      "cell_type": "code",
      "source": [
        "16. # . Write a code to create a set with the elements 'a', 'b', 'c' and print it.\n",
        "\"\"\"\n",
        "numbers ={'a', 'b', 'c'}\n",
        "print(numbers)\n",
        "\"\"\""
      ],
      "metadata": {
        "id": "W8wvYOjUYmsh"
      },
      "execution_count": null,
      "outputs": []
    },
    {
      "cell_type": "markdown",
      "source": [
        "17.  Write a code to clear all elements from the set {1, 2, 3, 4, 5}.\n",
        "  - my_set = {1, 2, 3, 4, 5}\n",
        "my_set.clear()\n",
        "print(my_set)"
      ],
      "metadata": {
        "id": "cqSKz3iOYvc4"
      }
    },
    {
      "cell_type": "code",
      "source": [
        "17. # Write a code to clear all elements from the set {1, 2, 3, 4, 5}.\n",
        "\"\"\"\n",
        " my_set = {1, 2, 3, 4, 5}\n",
        "my_set.clear()\n",
        "print(my_set)\n",
        "\"\"\""
      ],
      "metadata": {
        "id": "iLbBnaHvZAf3"
      },
      "execution_count": null,
      "outputs": []
    },
    {
      "cell_type": "markdown",
      "source": [
        "18.\n",
        "Write a code to remove the element 4 from the set {1, 2, 3, 4}.\n",
        "  - fruits = ['1', '2', '3', '4', '5']\n",
        "numbers.remove('3')\n",
        "print(numbers)"
      ],
      "metadata": {
        "id": "cWbDMTTaZIWu"
      }
    },
    {
      "cell_type": "code",
      "source": [
        "18. #Write a code to remove the element 4 from the set {1, 2, 3, 4}.\n",
        "\"\"\"\n",
        "fruits = ['1', '2', '3', '4', '5']\n",
        "numbers.remove('3')\n",
        "print(numbers)\n",
        "\"\"\""
      ],
      "metadata": {
        "id": "wGw4s-qcZZEG"
      },
      "execution_count": null,
      "outputs": []
    },
    {
      "cell_type": "markdown",
      "source": [
        "19. Write a code to find the union of two sets {1, 2, 3} and {3, 4, 5}.\n",
        "  - A = {1, 2, 3}\n",
        "B = {3, 4, 5}\n",
        "\n",
        "print(A.union(B)"
      ],
      "metadata": {
        "id": "AiJw_EJnZj4d"
      }
    },
    {
      "cell_type": "code",
      "source": [
        "19. # Write a code to find the union of two sets {1, 2, 3} and {3, 4, 5}.\n",
        "\"\"\"\n",
        "A = {1, 2, 3}\n",
        "B = {3, 4, 5}\n",
        "\n",
        "print(A.union(B)\n",
        "\"\"\""
      ],
      "metadata": {
        "id": "W_Gol4bcZv2l"
      },
      "execution_count": null,
      "outputs": []
    },
    {
      "cell_type": "markdown",
      "source": [
        "20. Write a code to find the intersection of two sets {1, 2, 3} and {2, 3, 4}.\n",
        "  - s1 = {1, 2, 3}\n",
        "s2 = {2, 3, 4}\n",
        "print(s1.intersection(s2))"
      ],
      "metadata": {
        "id": "rAsh9dioZ6h8"
      }
    },
    {
      "cell_type": "code",
      "source": [
        "20. # Write a code to find the intersection of two sets {1, 2, 3} and {2, 3, 4}.\n",
        "\"\"\"\n",
        "s1 = {1, 2, 3}\n",
        "s2 = {2, 3, 4}\n",
        "print(s1.intersection(s2))\n",
        "\"\"\""
      ],
      "metadata": {
        "id": "EnmSq_kKaPW7"
      },
      "execution_count": null,
      "outputs": []
    },
    {
      "cell_type": "markdown",
      "source": [
        "21. Write a code to create a dictionary with the keys \"name\", \"age\", and \"city\", and print it.\n",
        "   - keys = [\"name\", \"age\", \"city\"]\n",
        "\n",
        "d = dict([(k, v) for k])\n",
        "print(d)"
      ],
      "metadata": {
        "id": "Pu58DsPnaXBT"
      }
    },
    {
      "cell_type": "code",
      "source": [
        "21. # Write a code to create a dictionary with the keys \"name\", \"age\", and \"city\", and print it.\n",
        "\"\"\"\n",
        "keys = [\"name\", \"age\", \"city\"]\n",
        "\n",
        "d = dict([(k, v) for k])\n",
        "print(d)\n",
        "\"\"\""
      ],
      "metadata": {
        "id": "6yl5Wii5bCI5"
      },
      "execution_count": null,
      "outputs": []
    },
    {
      "cell_type": "markdown",
      "source": [
        "22. Write a code to add a new key-value pair \"country\": \"USA\" to the dictionary {'name': 'John', 'age': 25}\n",
        "  - keys = [\"country\": \"USA\"]\n",
        "values = [\"name\":'John', 'age':25]\n",
        "\n",
        "d = dict([(k, v) for k, v in zip(keys, values)])\n",
        "print(d)"
      ],
      "metadata": {
        "id": "UUf98C2ObKCA"
      }
    },
    {
      "cell_type": "code",
      "source": [
        "22. #Write a code to add a new key-value pair \"country\": \"USA\" to the dictionary {'name': 'John', 'age': 25}\n",
        "\"\"\"\n",
        " keys = [\"country\": \"USA\"]\n",
        "values = [\"name\":'John', 'age':25]\n",
        "\n",
        "d = dict([(k, v) for k, v in zip(keys, values)])\n",
        "print(d)\n",
        "\"\"\""
      ],
      "metadata": {
        "id": "a2QQuYPxb8re"
      },
      "execution_count": null,
      "outputs": []
    },
    {
      "cell_type": "markdown",
      "source": [
        "23.  Write a code to access the value associated with the key \"name\" in the dictionary {'name': 'Alice', 'age': 30}.\n",
        "   - my_dict = {'name': 'Alice', 'age': 30}\n",
        "print(\"Entire Dictionary:\")\n",
        "print(my_dict)"
      ],
      "metadata": {
        "id": "QZ-JYRNgcFdu"
      }
    },
    {
      "cell_type": "code",
      "source": [
        "23. #  Write a code to access the value associated with the key \"name\" in the dictionary {'name': 'Alice', 'age': 30}.\n",
        "\"\"\"\n",
        "my_dict = {'name': 'Alice', 'age': 30}\n",
        "print(\"Entire Dictionary:\")\n",
        "print(my_dict)\n",
        "\"\"\""
      ],
      "metadata": {
        "id": "OBlfW-VdcV01"
      },
      "execution_count": null,
      "outputs": []
    },
    {
      "cell_type": "markdown",
      "source": [
        "24. Write a code to remove the key \"age\" from the dictionary {'name': 'Bob', 'age': 22, 'city': 'New York'}.\n",
        "   - my_dict = {\"name\": \"Alice\", \"age\": 22, 'city': 'New York'}\n",
        "del my_dict[\"age\"]\n",
        "print(my_dict)"
      ],
      "metadata": {
        "id": "oX7ycqzVcc8N"
      }
    },
    {
      "cell_type": "code",
      "source": [
        "24. #Write a code to remove the key \"age\" from the dictionary {'name': 'Bob', 'age': 22, 'city': 'New York'}.\n",
        "\"\"\"\n",
        "my_dict = {\"name\": \"Alice\", \"age\": 22, 'city': 'New York'}\n",
        "del my_dict[\"age\"]\n",
        "print(my_dict)\n",
        "\"\"\""
      ],
      "metadata": {
        "id": "XHeyF6JEc7HL"
      },
      "execution_count": null,
      "outputs": []
    },
    {
      "cell_type": "markdown",
      "source": [
        "25. Write a code to check if the key \"city\" exists in the dictionary {'name': 'Alice', 'city': 'Paris'}.\n",
        "  - d = {'name': 'Alice', 'city':'Paris'}\n",
        "if d.get('city') == None:\n",
        "  print(\"Not Present\")\n",
        "else:\n",
        "  print(\"Present\")"
      ],
      "metadata": {
        "id": "xoM4C-BndC6N"
      }
    },
    {
      "cell_type": "code",
      "source": [
        "25. #Write a code to check if the key \"city\" exists in the dictionary {'name': 'Alice', 'city': 'Paris'}.\n",
        "\"\"\"\n",
        "d = {'name': 'Alice', 'city':'Paris'}\n",
        "if d.get('city') == None:\n",
        "  print(\"Not Present\")\n",
        "else:\n",
        "  print(\"Present\")\n",
        "\"\"\""
      ],
      "metadata": {
        "id": "bO1Vywy9eIxo"
      },
      "execution_count": null,
      "outputs": []
    },
    {
      "cell_type": "markdown",
      "source": [
        "26. Write a code to create a list, a tuple, and a dictionary, and print them all.\n",
        "  -  a = [10, 20, 30, 40, 50]\n",
        "print(a)\n",
        "a, b, c = (100, 200, 300)\n",
        "print(a)\n",
        "print(b)\n",
        "print(c)\n",
        "keys = [\"name\", \"age\", \"city\"]\n",
        "\n",
        "d = dict([(k, v) for k])\n",
        "print(d)"
      ],
      "metadata": {
        "id": "qX-ds2tHeUsf"
      }
    },
    {
      "cell_type": "code",
      "source": [
        "26. #Write a code to create a list, a tuple, and a dictionary, and print them all\n",
        "\"\"\"\n",
        " a = [10, 20, 30, 40, 50]\n",
        "print(a)\n",
        "a, b, c = (100, 200, 300)\n",
        "print(a)\n",
        "print(b)\n",
        "print(c)\n",
        "keys = [\"name\", \"age\", \"city\"]\n",
        "\n",
        "d = dict([(k, v) for k])\n",
        "print(d)\n",
        "\"\"\""
      ],
      "metadata": {
        "id": "-Xqy44xufw0D"
      },
      "execution_count": null,
      "outputs": []
    },
    {
      "cell_type": "markdown",
      "source": [
        "27. Write a code to create a list of 5 random numbers between 1 and 100, sort it in ascending order, and print the\n",
        "result.(replaced)\n",
        "  - n = 5  \n",
        "li = random.sample(range(1, 100), n)\n",
        "\n",
        "print(li)"
      ],
      "metadata": {
        "id": "ER2u1OVvgEyC"
      }
    },
    {
      "cell_type": "code",
      "source": [
        "27. #Write a code to create a list of 5 random numbers between 1 and 100, sort it in ascending order, and print the\n",
        "result.(replaced)\n",
        "\"\"\"\n",
        "n = 5\n",
        "li = random.sample(range(1, 100), n)\n",
        "\n",
        "print(li)\n",
        "\"\"\""
      ],
      "metadata": {
        "id": "KC06xJ_Oggjp"
      },
      "execution_count": null,
      "outputs": []
    },
    {
      "cell_type": "markdown",
      "source": [
        "28.  Write a code to create a list with strings and print the element at the third index.\n",
        "  - a = [\"geeks\", \"for\", \"geeks\", \"Germany\"]\n",
        "print(a[0])    \n",
        "print(a[-3])"
      ],
      "metadata": {
        "id": "ZatkGt4xgoWY"
      }
    },
    {
      "cell_type": "code",
      "source": [
        "28. #  Write a code to create a list with strings and print the element at the third index.\n",
        "\"\"\"\n",
        "a = [\"geeks\", \"for\", \"geeks\", \"Germany\"]\n",
        "print(a[0])\n",
        "print(a[-3])\n",
        "\"\"\""
      ],
      "metadata": {
        "id": "AHNKg13aiT3z"
      },
      "execution_count": null,
      "outputs": []
    },
    {
      "cell_type": "markdown",
      "source": [
        "29. Write a code to combine two dictionaries into one and print the result.\n",
        "  - d1 = {'x': 1, 'y': 2}\n",
        "d2 = {'y': 3, 'z': 4}\n",
        "d3 = d1 | d2\n",
        "print(d3)"
      ],
      "metadata": {
        "id": "tUNgQkYlidjz"
      }
    },
    {
      "cell_type": "code",
      "source": [
        "29. # Write a code to combine two dictionaries into one and print the result.\n",
        "\"\"\"\n",
        "d1 = {'x': 1, 'y': 2}\n",
        "d2 = {'y': 3, 'z': 4}\n",
        "d3 = d1 | d2\n",
        "print(d3)\n",
        "\"\"\""
      ],
      "metadata": {
        "id": "EBBc8rnejrBI"
      },
      "execution_count": null,
      "outputs": []
    },
    {
      "cell_type": "markdown",
      "source": [
        "30.  Write a code to convert a list of strings into a set.\n",
        "  - s = \"Geeks\"\n",
        "print(type(s))\n",
        "print(s)\n",
        "set_s = set(s)\n",
        "print(type(set_s))\n",
        "print(set_s)"
      ],
      "metadata": {
        "id": "7WAFWRqhjBNx"
      }
    },
    {
      "cell_type": "code",
      "source": [
        "30. #  Write a code to convert a list of strings into a set.\n",
        "\"\"\"\n",
        "s = \"Geeks\"\n",
        "print(type(s))\n",
        "print(s)\n",
        "set_s = set(s)\n",
        "print(type(set_s))\n",
        "print(set_s)\n",
        "\"\"\""
      ],
      "metadata": {
        "id": "xEcmB7z-jcCw"
      },
      "execution_count": null,
      "outputs": []
    }
  ]
}